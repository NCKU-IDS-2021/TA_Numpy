{
 "cells": [
  {
   "cell_type": "markdown",
   "metadata": {},
   "source": [
    "# TA Class II"
   ]
  },
  {
   "cell_type": "markdown",
   "metadata": {
    "scrolled": true
   },
   "source": [
    "![Imgur](https://i.imgur.com/qjcnN0g.png)\n",
    "###### Reference : https://www.nature.com/articles/s41586-020-2649-2?fbclid=IwAR2eVEJDARphtHvhwalAE2zS6BM6u14u0XM8EP1o7ITyzSZ2VKmOyXj0XeA"
   ]
  },
  {
   "cell_type": "markdown",
   "metadata": {},
   "source": [
    "## Quick numpy walkthrough"
   ]
  },
  {
   "cell_type": "code",
   "execution_count": 1,
   "metadata": {},
   "outputs": [],
   "source": [
    "import numpy as np"
   ]
  },
  {
   "cell_type": "markdown",
   "metadata": {},
   "source": [
    "### some basics"
   ]
  },
  {
   "cell_type": "code",
   "execution_count": 2,
   "metadata": {},
   "outputs": [
    {
     "name": "stdout",
     "output_type": "stream",
     "text": [
      "<class 'numpy.ndarray'>\n",
      "The shape of n is (10,)\n"
     ]
    },
    {
     "data": {
      "text/plain": [
       "array([0., 0., 0., 0., 0., 0., 0., 0., 0., 0.])"
      ]
     },
     "execution_count": 2,
     "metadata": {},
     "output_type": "execute_result"
    }
   ],
   "source": [
    "n = np.zeros(10)\n",
    "print(type(n))\n",
    "print('The shape of n is ' + str(n.shape))\n",
    "n"
   ]
  },
  {
   "cell_type": "code",
   "execution_count": 3,
   "metadata": {},
   "outputs": [
    {
     "data": {
      "text/plain": [
       "(3, 2, 1)"
      ]
     },
     "execution_count": 3,
     "metadata": {},
     "output_type": "execute_result"
    }
   ],
   "source": [
    "m = np.array([[[1],[2]],[[3],[4]],[[5],[6]]])     # dimensions\n",
    "m.shape"
   ]
  },
  {
   "cell_type": "code",
   "execution_count": 4,
   "metadata": {},
   "outputs": [
    {
     "data": {
      "text/plain": [
       "array([1., 1., 1., 1., 1., 1., 1., 1., 1., 1.])"
      ]
     },
     "execution_count": 4,
     "metadata": {},
     "output_type": "execute_result"
    }
   ],
   "source": [
    "n = np.ones(10)\n",
    "n"
   ]
  },
  {
   "cell_type": "code",
   "execution_count": 5,
   "metadata": {},
   "outputs": [
    {
     "data": {
      "text/plain": [
       "array([[7, 7, 7, 7, 7, 7, 7],\n",
       "       [7, 7, 7, 7, 7, 7, 7],\n",
       "       [7, 7, 7, 7, 7, 7, 7],\n",
       "       [7, 7, 7, 7, 7, 7, 7],\n",
       "       [7, 7, 7, 7, 7, 7, 7],\n",
       "       [7, 7, 7, 7, 7, 7, 7],\n",
       "       [7, 7, 7, 7, 7, 7, 7]])"
      ]
     },
     "execution_count": 5,
     "metadata": {},
     "output_type": "execute_result"
    }
   ],
   "source": [
    "n = np.full((7, 7), 7)\n",
    "n"
   ]
  },
  {
   "cell_type": "code",
   "execution_count": 6,
   "metadata": {},
   "outputs": [
    {
     "data": {
      "text/plain": [
       "array([ 5.  ,  6.25,  7.5 ,  8.75, 10.  ])"
      ]
     },
     "execution_count": 6,
     "metadata": {},
     "output_type": "execute_result"
    }
   ],
   "source": [
    "n = np.linspace(5, 10, 5)\n",
    "n"
   ]
  },
  {
   "cell_type": "code",
   "execution_count": 7,
   "metadata": {},
   "outputs": [
    {
     "data": {
      "text/plain": [
       "array([10, 10,  2])"
      ]
     },
     "execution_count": 7,
     "metadata": {},
     "output_type": "execute_result"
    }
   ],
   "source": [
    "n = np.array([10, 10,2])\n",
    "n"
   ]
  },
  {
   "cell_type": "code",
   "execution_count": 8,
   "metadata": {},
   "outputs": [
    {
     "data": {
      "text/plain": [
       "(3,)"
      ]
     },
     "execution_count": 8,
     "metadata": {},
     "output_type": "execute_result"
    }
   ],
   "source": [
    "n.shape"
   ]
  },
  {
   "cell_type": "markdown",
   "metadata": {},
   "source": [
    "### shape & reshape"
   ]
  },
  {
   "cell_type": "markdown",
   "metadata": {},
   "source": [
    "![Imgur](https://i.imgur.com/ri1Xr0w.png)\n",
    "###### Reference : https://fgnt.github.io/python_crashkurs_doc/include/numpy.html"
   ]
  },
  {
   "cell_type": "code",
   "execution_count": 9,
   "metadata": {
    "scrolled": true
   },
   "outputs": [
    {
     "data": {
      "text/plain": [
       "array([[10, 12, 14],\n",
       "       [16, 18, 20],\n",
       "       [22, 24, 26],\n",
       "       [28, 30, 32],\n",
       "       [34, 36, 38],\n",
       "       [40, 42, 44],\n",
       "       [46, 48, 50],\n",
       "       [52, 54, 56],\n",
       "       [58, 60, 62],\n",
       "       [64, 66, 68]])"
      ]
     },
     "execution_count": 9,
     "metadata": {},
     "output_type": "execute_result"
    }
   ],
   "source": [
    "n = np.arange(10,70,2).reshape((10,3))\n",
    "n"
   ]
  },
  {
   "cell_type": "markdown",
   "metadata": {},
   "source": [
    "<pre>\n",
    "n.reshape(-1, 3) means that you want to reshape the array with 3 columns and you don't know what is the number of raws,\n",
    "assign -1 and numpy will complete the task for you.\n",
    "</pre>"
   ]
  },
  {
   "cell_type": "code",
   "execution_count": 10,
   "metadata": {},
   "outputs": [
    {
     "data": {
      "text/plain": [
       "array([[10, 12, 14],\n",
       "       [16, 18, 20],\n",
       "       [22, 24, 26],\n",
       "       [28, 30, 32],\n",
       "       [34, 36, 38],\n",
       "       [40, 42, 44],\n",
       "       [46, 48, 50],\n",
       "       [52, 54, 56],\n",
       "       [58, 60, 62],\n",
       "       [64, 66, 68]])"
      ]
     },
     "execution_count": 10,
     "metadata": {},
     "output_type": "execute_result"
    }
   ],
   "source": [
    "n.reshape(-1, 3)"
   ]
  },
  {
   "cell_type": "code",
   "execution_count": 11,
   "metadata": {},
   "outputs": [
    {
     "data": {
      "text/plain": [
       "array([[10, 12, 14, 16, 18, 20, 22, 24, 26, 28],\n",
       "       [30, 32, 34, 36, 38, 40, 42, 44, 46, 48],\n",
       "       [50, 52, 54, 56, 58, 60, 62, 64, 66, 68]])"
      ]
     },
     "execution_count": 11,
     "metadata": {},
     "output_type": "execute_result"
    }
   ],
   "source": [
    "n.reshape(3, -1)"
   ]
  },
  {
   "cell_type": "markdown",
   "metadata": {},
   "source": [
    "### index & slicing"
   ]
  },
  {
   "cell_type": "code",
   "execution_count": 12,
   "metadata": {
    "scrolled": false
   },
   "outputs": [
    {
     "name": "stdout",
     "output_type": "stream",
     "text": [
      "[[10 12 14]\n",
      " [16 18 20]\n",
      " [22 24 26]\n",
      " [28 30 32]\n",
      " [34 36 38]\n",
      " [40 42 44]\n",
      " [46 48 50]\n",
      " [52 54 56]\n",
      " [58 60 62]\n",
      " [64 66 68]]\n",
      "\n",
      "n[0][1] = 12\n",
      "n[1][-2] = 18\n"
     ]
    }
   ],
   "source": [
    "print(n)\n",
    "print('')\n",
    "print('n[0][1] = ' + str(n[0][1]))\n",
    "print('n[1][-2] = ' + str(n[1][-2]))"
   ]
  },
  {
   "cell_type": "markdown",
   "metadata": {},
   "source": [
    "<pre>what is 「::」 ...?! 「start:end:step」</pre>"
   ]
  },
  {
   "cell_type": "code",
   "execution_count": 13,
   "metadata": {
    "scrolled": true
   },
   "outputs": [
    {
     "name": "stdout",
     "output_type": "stream",
     "text": [
      "[[10 12 14]\n",
      " [16 18 20]\n",
      " [22 24 26]\n",
      " [28 30 32]\n",
      " [34 36 38]\n",
      " [40 42 44]\n",
      " [46 48 50]\n",
      " [52 54 56]\n",
      " [58 60 62]\n",
      " [64 66 68]]\n"
     ]
    },
    {
     "data": {
      "text/plain": [
       "array([[16, 18, 20],\n",
       "       [34, 36, 38],\n",
       "       [52, 54, 56]])"
      ]
     },
     "execution_count": 13,
     "metadata": {},
     "output_type": "execute_result"
    }
   ],
   "source": [
    "print(n)\n",
    "n[1::3,]"
   ]
  },
  {
   "cell_type": "code",
   "execution_count": 14,
   "metadata": {},
   "outputs": [
    {
     "data": {
      "text/plain": [
       "array([[64, 68],\n",
       "       [58, 62],\n",
       "       [52, 56],\n",
       "       [46, 50],\n",
       "       [40, 44],\n",
       "       [34, 38],\n",
       "       [28, 32],\n",
       "       [22, 26],\n",
       "       [16, 20],\n",
       "       [10, 14]])"
      ]
     },
     "execution_count": 14,
     "metadata": {},
     "output_type": "execute_result"
    }
   ],
   "source": [
    "n[::-1,::2]"
   ]
  },
  {
   "cell_type": "code",
   "execution_count": 15,
   "metadata": {},
   "outputs": [
    {
     "data": {
      "text/plain": [
       "array([370, 390, 410])"
      ]
     },
     "execution_count": 15,
     "metadata": {},
     "output_type": "execute_result"
    }
   ],
   "source": [
    "sum(n)"
   ]
  },
  {
   "cell_type": "markdown",
   "metadata": {},
   "source": [
    "### mask"
   ]
  },
  {
   "cell_type": "code",
   "execution_count": 16,
   "metadata": {},
   "outputs": [
    {
     "name": "stdout",
     "output_type": "stream",
     "text": [
      "[[False False False]\n",
      " [False False False]\n",
      " [False False False]\n",
      " [False False False]\n",
      " [ True  True  True]\n",
      " [ True  True  True]\n",
      " [ True  True  True]\n",
      " [ True  True  True]\n",
      " [ True  True  True]\n",
      " [ True  True  True]]\n"
     ]
    },
    {
     "data": {
      "text/plain": [
       "array([34, 36, 38, 40, 42, 44, 46, 48, 50, 52, 54, 56, 58, 60, 62, 64, 66,\n",
       "       68])"
      ]
     },
     "execution_count": 16,
     "metadata": {},
     "output_type": "execute_result"
    }
   ],
   "source": [
    "print(n > 33)\n",
    "n[n > 33]"
   ]
  },
  {
   "cell_type": "code",
   "execution_count": 17,
   "metadata": {},
   "outputs": [
    {
     "data": {
      "text/plain": [
       "array([[34, 36, 38, 40, 42, 44],\n",
       "       [46, 48, 50, 52, 54, 56],\n",
       "       [58, 60, 62, 64, 66, 68]])"
      ]
     },
     "execution_count": 17,
     "metadata": {},
     "output_type": "execute_result"
    }
   ],
   "source": [
    "n_2 = n[n > 33].reshape(3, 6)\n",
    "n_2"
   ]
  },
  {
   "cell_type": "code",
   "execution_count": 18,
   "metadata": {},
   "outputs": [
    {
     "data": {
      "text/plain": [
       "array([[1.5, 1.5, 1.5, 1.5, 1.5, 1.5],\n",
       "       [1. , 1. , 1. , 1. , 1. , 1. ],\n",
       "       [1. , 1. , 1. , 1. , 1. , 1. ]])"
      ]
     },
     "execution_count": 18,
     "metadata": {},
     "output_type": "execute_result"
    }
   ],
   "source": [
    "n_2_mask = np.where( n_2 > 45, 1, 1.5) \n",
    "n_2_mask"
   ]
  },
  {
   "cell_type": "markdown",
   "metadata": {},
   "source": [
    "### list + list    vs.   array + array"
   ]
  },
  {
   "cell_type": "code",
   "execution_count": 19,
   "metadata": {},
   "outputs": [
    {
     "name": "stdout",
     "output_type": "stream",
     "text": [
      "list_1 + list_2 = [1, 2, 3, 4, 5, 2, 4, 6, 8, 10]\n",
      "array_1 + array_2 = [ 3  6  9 12 15]\n"
     ]
    }
   ],
   "source": [
    "list_1 = [1,2,3,4,5]\n",
    "list_2 = [2,4,6,8,10]\n",
    "print('list_1 + list_2 = ' + str(list_1 + list_2))\n",
    "\n",
    "array_1 = np.array(list_1)\n",
    "array_2 = np.array(list_2)\n",
    "print('array_1 + array_2 = ' + str(array_1 + array_2))"
   ]
  },
  {
   "cell_type": "code",
   "execution_count": 20,
   "metadata": {
    "scrolled": true
   },
   "outputs": [
    {
     "name": "stdout",
     "output_type": "stream",
     "text": [
      "array_1 + 10 = [11 12 13 14 15]\n",
      "array_1 * 10 = [10 20 30 40 50]\n",
      "array_1 * array_2 = [ 2  8 18 32 50]\n"
     ]
    }
   ],
   "source": [
    "print('array_1 + 10 = ' + str(array_1 + 10))\n",
    "print('array_1 * 10 = ' + str(array_1 * 10))\n",
    "print('array_1 * array_2 = ' + str(array_1 * array_2))"
   ]
  },
  {
   "cell_type": "markdown",
   "metadata": {},
   "source": [
    "### Broadcasting"
   ]
  },
  {
   "cell_type": "markdown",
   "metadata": {},
   "source": [
    "![Imgur](https://i.imgur.com/m28nIzt.png)\n",
    "###### Reference : https://mathematica.stackexchange.com/questions/99171/how-to-implement-the-general-array-broadcasting-method-from-numpy"
   ]
  },
  {
   "cell_type": "code",
   "execution_count": 21,
   "metadata": {},
   "outputs": [
    {
     "name": "stdout",
     "output_type": "stream",
     "text": [
      "The shape of a =(2, 5, 2)\n",
      "[[[ 0  1]\n",
      "  [ 2  3]\n",
      "  [ 4  5]\n",
      "  [ 6  7]\n",
      "  [ 8  9]]\n",
      "\n",
      " [[10 11]\n",
      "  [12 13]\n",
      "  [14 15]\n",
      "  [16 17]\n",
      "  [18 19]]]\n",
      "\n",
      "The shape of b_2dim =(2, 1)\n",
      "[[1.]\n",
      " [1.]]\n",
      "\n",
      "The shape of b_3dim =(2, 1, 1)\n",
      "[[[1.]]\n",
      "\n",
      " [[1.]]]\n"
     ]
    }
   ],
   "source": [
    "a = np.arange(20).reshape(2,5,2)\n",
    "b_2dim = np.ones(2).reshape(2,1)\n",
    "print('The shape of a =' + str(a.shape))\n",
    "print(a)\n",
    "print('')\n",
    "print('The shape of b_2dim =' + str(b_2dim.shape))\n",
    "print(b_2dim)\n",
    "\n",
    "print('')\n",
    "b_3dim = b_2dim[:,:,np.newaxis]\n",
    "print('The shape of b_3dim =' + str(b_3dim.shape))\n",
    "print(b_3dim)"
   ]
  },
  {
   "cell_type": "code",
   "execution_count": 22,
   "metadata": {},
   "outputs": [
    {
     "name": "stdout",
     "output_type": "stream",
     "text": [
      "The shape of ab =(2, 5, 2)\n",
      "[[[ 1.  2.]\n",
      "  [ 3.  4.]\n",
      "  [ 5.  6.]\n",
      "  [ 7.  8.]\n",
      "  [ 9. 10.]]\n",
      "\n",
      " [[11. 12.]\n",
      "  [13. 14.]\n",
      "  [15. 16.]\n",
      "  [17. 18.]\n",
      "  [19. 20.]]]\n"
     ]
    }
   ],
   "source": [
    "ab = a + b_3dim\n",
    "print('The shape of ab =' + str(ab.shape))\n",
    "print(ab)"
   ]
  },
  {
   "cell_type": "code",
   "execution_count": 23,
   "metadata": {},
   "outputs": [
    {
     "data": {
      "text/plain": [
       "array([[  5,  25,  61, 113, 181],\n",
       "       [265, 365, 481, 613, 761]])"
      ]
     },
     "execution_count": 23,
     "metadata": {},
     "output_type": "execute_result"
    }
   ],
   "source": [
    "np.sum(ab ** 2, dtype=int, axis=-1)"
   ]
  },
  {
   "cell_type": "markdown",
   "metadata": {},
   "source": [
    "### vstack   vs.   hstack"
   ]
  },
  {
   "cell_type": "code",
   "execution_count": 24,
   "metadata": {},
   "outputs": [
    {
     "data": {
      "text/plain": [
       "array([[1, 2, 3],\n",
       "       [4, 5, 6]])"
      ]
     },
     "execution_count": 24,
     "metadata": {},
     "output_type": "execute_result"
    }
   ],
   "source": [
    "arr1 = np.array([1,2,3])\n",
    "arr2 = np.array([4,5,6])\n",
    "np.vstack((arr1, arr2))"
   ]
  },
  {
   "cell_type": "code",
   "execution_count": 25,
   "metadata": {
    "scrolled": false
   },
   "outputs": [
    {
     "data": {
      "text/plain": [
       "array([[ 1,  2,  3],\n",
       "       [ 4,  5,  6],\n",
       "       [ 0,  0,  0],\n",
       "       [ 7,  8,  9],\n",
       "       [10, 11, 12],\n",
       "       [ 1,  1,  1]])"
      ]
     },
     "execution_count": 25,
     "metadata": {},
     "output_type": "execute_result"
    }
   ],
   "source": [
    "arr10 = np.array([[1,2,3], [4,5,6], [0,0,0]])\n",
    "arr20 = np.array([[7,8,9], [10,11,12], [1,1,1]])\n",
    "arrvstack = np.vstack((arr10, arr20))\n",
    "arrvstack"
   ]
  },
  {
   "cell_type": "markdown",
   "metadata": {},
   "source": [
    "<pre>\n",
    "These two cannot stack together !\n",
    "\n",
    "array([[1, 2],\n",
    "       [4, 5]])\n",
    "       \n",
    "array([[ 1,  2,  3],\n",
    "       [ 4,  5,  6],\n",
    "       [ 0,  0,  0],\n",
    "       [ 7,  8,  9],\n",
    "       [10, 11, 12],\n",
    "       [ 1,  1,  1]])\n",
    "\n",
    "All the input array dimensions for the concatenation axis must match exactly.\n",
    "</pre>"
   ]
  },
  {
   "cell_type": "code",
   "execution_count": 26,
   "metadata": {},
   "outputs": [
    {
     "name": "stdout",
     "output_type": "stream",
     "text": [
      "Shape of arr1 = (3,)\n",
      "Shape of arr20 = (3, 3)\n"
     ]
    },
    {
     "data": {
      "text/plain": [
       "array([[ 1,  2,  3],\n",
       "       [ 7,  8,  9],\n",
       "       [10, 11, 12],\n",
       "       [ 1,  1,  1]])"
      ]
     },
     "execution_count": 26,
     "metadata": {},
     "output_type": "execute_result"
    }
   ],
   "source": [
    "# How about stacking arrays with different dimentions ?\n",
    "print('Shape of arr1 = ' + str(arr1.shape))\n",
    "print('Shape of arr20 = ' + str(arr20.shape))\n",
    "np.vstack((arr1, arr20))                      # What will happend if we do np.hstack((arr1, arr20)) here? try it!"
   ]
  },
  {
   "cell_type": "code",
   "execution_count": 27,
   "metadata": {
    "scrolled": true
   },
   "outputs": [
    {
     "data": {
      "text/plain": [
       "array([[ 1,  2,  7,  8],\n",
       "       [ 3,  4,  9, 10],\n",
       "       [ 5,  6, 11, 12]])"
      ]
     },
     "execution_count": 27,
     "metadata": {},
     "output_type": "execute_result"
    }
   ],
   "source": [
    "arr3 = np.array([[1,2], [3,4], [5,6]])\n",
    "arr4 = np.array([[7,8], [9,10], [11,12]])\n",
    "np.hstack((arr3, arr4))"
   ]
  },
  {
   "cell_type": "markdown",
   "metadata": {},
   "source": [
    "### Sort "
   ]
  },
  {
   "cell_type": "code",
   "execution_count": 28,
   "metadata": {},
   "outputs": [
    {
     "name": "stdout",
     "output_type": "stream",
     "text": [
      "[ 1  2  3  4 50]\n"
     ]
    }
   ],
   "source": [
    "x = np.array([2, 1, 4, 3, 50])\n",
    "x.sort()\n",
    "print(x)"
   ]
  },
  {
   "cell_type": "code",
   "execution_count": 29,
   "metadata": {},
   "outputs": [
    {
     "name": "stdout",
     "output_type": "stream",
     "text": [
      "[1 0 3 2 4]\n"
     ]
    },
    {
     "data": {
      "text/plain": [
       "array([ 1,  2,  3,  4, 50])"
      ]
     },
     "execution_count": 29,
     "metadata": {},
     "output_type": "execute_result"
    }
   ],
   "source": [
    "# returns the indices of the sorted elements\n",
    "x = np.array([2, 1, 4, 3, 50])\n",
    "i = np.argsort(x)\n",
    "print(i)\n",
    "\n",
    "# These indices can then be used to construct the sorted array if desired\n",
    "x[i]"
   ]
  },
  {
   "cell_type": "markdown",
   "metadata": {},
   "source": [
    "### Sorting along rows or columns"
   ]
  },
  {
   "cell_type": "code",
   "execution_count": 30,
   "metadata": {},
   "outputs": [
    {
     "name": "stdout",
     "output_type": "stream",
     "text": [
      "[[6 6 6 3 0 9]\n",
      " [0 8 3 3 8 3]\n",
      " [8 7 5 6 2 9]\n",
      " [3 8 4 9 4 9]]\n"
     ]
    }
   ],
   "source": [
    "rand = np.random.RandomState(87)\n",
    "X_for_sort = rand.randint(0, 10, (4, 6))\n",
    "print(X_for_sort)"
   ]
  },
  {
   "cell_type": "code",
   "execution_count": 31,
   "metadata": {},
   "outputs": [
    {
     "data": {
      "text/plain": [
       "array([[0, 6, 3, 3, 0, 3],\n",
       "       [3, 7, 4, 3, 2, 9],\n",
       "       [6, 8, 5, 6, 4, 9],\n",
       "       [8, 8, 6, 9, 8, 9]])"
      ]
     },
     "execution_count": 31,
     "metadata": {},
     "output_type": "execute_result"
    }
   ],
   "source": [
    "# sort each column of X_for_sort\n",
    "np.sort(X_for_sort, axis=0)"
   ]
  },
  {
   "cell_type": "code",
   "execution_count": 32,
   "metadata": {},
   "outputs": [
    {
     "data": {
      "text/plain": [
       "array([[0, 3, 6, 6, 6, 9],\n",
       "       [0, 3, 3, 3, 8, 8],\n",
       "       [2, 5, 6, 7, 8, 9],\n",
       "       [3, 4, 4, 8, 9, 9]])"
      ]
     },
     "execution_count": 32,
     "metadata": {},
     "output_type": "execute_result"
    }
   ],
   "source": [
    "# sort each row of X_for_sort\n",
    "np.sort(X_for_sort, axis=1)"
   ]
  },
  {
   "cell_type": "markdown",
   "metadata": {},
   "source": [
    "### Partial Sorts"
   ]
  },
  {
   "cell_type": "code",
   "execution_count": 33,
   "metadata": {},
   "outputs": [
    {
     "data": {
      "text/plain": [
       "array([2, 1, 3, 4, 6, 5, 7])"
      ]
     },
     "execution_count": 33,
     "metadata": {},
     "output_type": "execute_result"
    }
   ],
   "source": [
    "list_for_sort = np.array([7, 2, 3, 1, 6, 5, 4])\n",
    "np.partition(list_for_sort, 3)"
   ]
  },
  {
   "cell_type": "code",
   "execution_count": 34,
   "metadata": {},
   "outputs": [
    {
     "name": "stdout",
     "output_type": "stream",
     "text": [
      "[[6 6 6 3 0 9]\n",
      " [0 8 3 3 8 3]\n",
      " [8 7 5 6 2 9]\n",
      " [3 8 4 9 4 9]]\n",
      "\n",
      "\n",
      "[[0 3 6 6 6 9]\n",
      " [0 3 3 8 8 3]\n",
      " [2 5 6 7 8 9]\n",
      " [3 4 4 9 8 9]]\n"
     ]
    }
   ],
   "source": [
    "# partial sort each row\n",
    "print(X_for_sort)\n",
    "print('\\n')\n",
    "print(np.partition(X_for_sort, 2, axis=1))"
   ]
  },
  {
   "cell_type": "markdown",
   "metadata": {},
   "source": [
    "### Universal Function ( UFunc )"
   ]
  },
  {
   "cell_type": "markdown",
   "metadata": {},
   "source": [
    "<pre>\n",
    "L = [1,2,3,4,5]\n",
    "L + 5\n",
    "---------------------------------------------------------------------------\n",
    "<span style=\"color: red\">TypeError</span>                                Traceback (most recent call last)\n",
    "<ipython-input-120-6cbace975c8f> in <module>\n",
    "      1 L = [1,2,3,4,5]\n",
    "----> 2 L + 5\n",
    "\n",
    "<span style=\"color: red\">TypeError</span>: can only concatenate list (not \"int\") to list\n",
    "\n",
    "so we have to do:\n",
    "L = [1,2,3,4,5]\n",
    "\n",
    "for i in range(len(L)):\n",
    "    L[i] = L[i] + 5\n",
    "\n",
    "print(L)\n",
    ">>> [6, 7, 8, 9, 10]\n",
    "\n",
    "\n",
    "<b>However, loops is significant slower when the number of iterations is large.</b>\n",
    "\n",
    "\n",
    "<b>This is why we want to use UFuncs.</b>\n",
    "</pre>"
   ]
  },
  {
   "cell_type": "code",
   "execution_count": 35,
   "metadata": {},
   "outputs": [
    {
     "name": "stdout",
     "output_type": "stream",
     "text": [
      "The original ndarray is \n",
      "[[0 1 2 3 4]\n",
      " [5 6 7 8 9]]\n",
      "\n",
      "After the operation above, the ndarray become \n",
      "[[ 5  6  7  8  9]\n",
      " [10 11 12 13 14]]\n"
     ]
    }
   ],
   "source": [
    "npL = np.array(range(10)).reshape(2,5)\n",
    "print('The original ndarray is ')\n",
    "print(str(npL) + '\\n')\n",
    "\n",
    "npL = npL + 5\n",
    "print('After the operation above, the ndarray become ' )\n",
    "print(str(npL))"
   ]
  },
  {
   "cell_type": "code",
   "execution_count": 36,
   "metadata": {},
   "outputs": [
    {
     "data": {
      "text/plain": [
       "array([[-169, -225, -289, -361, -441],\n",
       "       [-529, -625, -729, -841, -961]], dtype=int32)"
      ]
     },
     "execution_count": 36,
     "metadata": {},
     "output_type": "execute_result"
    }
   ],
   "source": [
    "# we can also implement more complex function on ndarrays.\n",
    "# -( 2*x + 3 )^ 2 for all x in npL\n",
    "-( 2*npL + 3 ) ** 2"
   ]
  },
  {
   "cell_type": "markdown",
   "metadata": {},
   "source": [
    "### axis"
   ]
  },
  {
   "cell_type": "code",
   "execution_count": 37,
   "metadata": {},
   "outputs": [
    {
     "name": "stdout",
     "output_type": "stream",
     "text": [
      "sum(arr, axis = 0) = [ 9 12]\n",
      "sum(arr, axis = 1) = [ 3  7 11]\n"
     ]
    }
   ],
   "source": [
    "# arr = [[1,2],\n",
    "#        [3,4],\n",
    "#        [5,6]]\n",
    "\n",
    "arr = np.array([[1,2], [3,4], [5,6]])\n",
    "print('sum(arr, axis = 0) = ' + str(np.sum(arr, axis = 0)))\n",
    "print('sum(arr, axis = 1) = ' + str(np.sum(arr, axis = 1)))"
   ]
  },
  {
   "cell_type": "markdown",
   "metadata": {},
   "source": [
    "### multiply tuples\n",
    "<pre>\n",
    "(3*X^2Y+Y^5Z^3)(2*XYZ-XZ^2)\n",
    "step 1. Find out all variables and use a tuple as the key and the constant as the value in a dictionary\n",
    "step 2. Multiply tuples to calculate the result of a item multiplies another item.\n",
    "step 3. Deal with the repetitions.\n",
    "</pre>"
   ]
  },
  {
   "cell_type": "code",
   "execution_count": 38,
   "metadata": {},
   "outputs": [],
   "source": [
    "item_1 = (2,1,0)\n",
    "item_2 = (0,5,3)\n",
    "item_3 = (1,1,1)\n",
    "item_4 = (1,0,2)\n",
    "dict_1 = {item_1:3, item_2:1}\n",
    "dict_2 = {item_3:2, item_4:-1}\n",
    "\n",
    "def multiply(dict_1, dict_2):\n",
    "    return_dict = {}\n",
    "    for (i1, c1) in dict_1.items():\n",
    "        for (i2, c2) in dict_2.items():\n",
    "            arr1 = np.array(i1)\n",
    "            arr2 = np.array(i2)\n",
    "            new_key = tuple(arr1 + arr2)\n",
    "            new_const = c1 * c2\n",
    "            if new_key in return_dict:\n",
    "                return_dict[new_key] += new_const\n",
    "            else:\n",
    "                return_dict[new_key] = new_const\n",
    "    return return_dict"
   ]
  },
  {
   "cell_type": "code",
   "execution_count": 39,
   "metadata": {},
   "outputs": [
    {
     "data": {
      "text/plain": [
       "{(3, 2, 1): 6, (3, 1, 2): -3, (1, 6, 4): 2, (1, 5, 5): -1}"
      ]
     },
     "execution_count": 39,
     "metadata": {},
     "output_type": "execute_result"
    }
   ],
   "source": [
    "mul_ans = multiply(dict_1, dict_2)\n",
    "mul_ans"
   ]
  },
  {
   "cell_type": "markdown",
   "metadata": {},
   "source": [
    "# 　"
   ]
  }
 ],
 "metadata": {
  "kernelspec": {
   "display_name": "Python 3",
   "language": "python",
   "name": "python3"
  },
  "language_info": {
   "codemirror_mode": {
    "name": "ipython",
    "version": 3
   },
   "file_extension": ".py",
   "mimetype": "text/x-python",
   "name": "python",
   "nbconvert_exporter": "python",
   "pygments_lexer": "ipython3",
   "version": "3.7.9"
  }
 },
 "nbformat": 4,
 "nbformat_minor": 2
}
